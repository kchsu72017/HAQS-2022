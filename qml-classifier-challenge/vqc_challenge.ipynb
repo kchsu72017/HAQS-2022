{
 "cells": [
  {
   "cell_type": "markdown",
   "metadata": {
    "tags": []
   },
   "source": [
    "# VQC Challenge\n",
    "\n",
    "In this challenge, you will use [Pennylane](https://github.com/PennyLaneAI/pennylane) and [Amazon Braket](https://github.com/aws/amazon-braket-examples) to implement a variational quantum classifier (VQC) to take on a supervised learning problem based on the work of [Havlíček et al. (2018)](https://arxiv.org/pdf/1804.11326.pdf). Complete each of the four TODOs in this notebook to construct and train a QML model to solve the binary classification task. You can use the `gen_binary.py` script to generate a new train/test dataset, and further test your model.\n",
    "\n",
    "A central feature of Amazon Braket is that its remote simulator can execute multiple circuits in parallel. This capability can be harnessed in PennyLane during circuit training, which requires lots of variations of a circuit to be executed. Hence, the PennyLane-Braket plugin provides a method for scalable optimization of large circuits with many parameters. After validating your implementation and successfully training using a local simulator, enable [qBraid quantum jobs](https://qbraid-qbraid.readthedocs-hosted.com/en/latest/cli/jobs.html) and test your binary classifier on remote quantum hardware using the [Amazon Braket Pennylane plugin](https://github.com/aws/amazon-braket-pennylane-plugin-python). See the resources linked below for more.\n",
    "\n",
    "*Important*:  Your final model must be tested with on a remote quantum device using the Amazon Braket Pennylane plugin. Submissions that do not interface with [Amazon Braket supported devices](https://docs.aws.amazon.com/braket/latest/developerguide/braket-devices.html) will not be eligible to be ranked on the leaderboard.\n",
    "\n",
    "#### Pennylane Resources:\n",
    "\n",
    "- [Quantum Embedding](https://pennylane.ai/qml/glossary/quantum_embedding.html)\n",
    "- [Quantum Feature Map](https://pennylane.ai/qml/glossary/quantum_feature_map.html)\n",
    "- [Circuit Ansatz](https://pennylane.ai/qml/glossary/circuit_ansatz.html)\n",
    "- [Variational Circuit](https://pennylane.ai/qml/glossary/variational_circuit.html)\n",
    "- [Quantum Gradient](https://pennylane.ai/qml/glossary/quantum_gradient.html)\n",
    "- [Variational Quantum Classifier](https://pennylane.ai/qml/demos/tutorial_variational_classifier.html)\n",
    "- [PennyLane-Braket Plugin](https://amazon-braket-pennylane-plugin-python.readthedocs.io/en/latest/)\n",
    "- [Computing gradients in parallel with Amazon Braket](https://pennylane.ai/qml/demos/braket-parallel-gradients.html)\n",
    "\n",
    "#### Amazon Braket Resources:\n",
    "\n",
    "- [Use PennyLane with Amazon Braket](https://docs.aws.amazon.com/braket/latest/developerguide/hybrid.html)\n",
    "- [Amazon Braket examples: hybrid quantum algorithms](https://github.com/aws/amazon-braket-examples/tree/main/examples/hybrid_quantum_algorithms)\n",
    "\n",
    "#### qBraid Resources:\n",
    "\n",
    "- [qBraid demo notebooks: quantum jobs](https://github.com/qBraid/qbraid-lab-demo/blob/main/qbraid_quantum_jobs.ipynb)\n",
    "- [qBraid CLI: quantum jobs commands](https://qbraid-qbraid.readthedocs-hosted.com/en/latest/cli/jobs.html)"
   ]
  },
  {
   "cell_type": "code",
   "execution_count": 1,
   "metadata": {},
   "outputs": [
    {
     "name": "stdout",
     "output_type": "stream",
     "text": [
      "\u001b[0;35mYou have already enabled qBraid Quantum Jobs in the haqs environment.\u001b[0m\n"
     ]
    }
   ],
   "source": [
    "!qbraid jobs enable haqs  # enable quantum jobs"
   ]
  },
  {
   "cell_type": "code",
   "execution_count": 2,
   "metadata": {},
   "outputs": [],
   "source": [
    "TEAM_NAME = \"Aqcent\"  # enter team name"
   ]
  },
  {
   "cell_type": "code",
   "execution_count": null,
   "metadata": {},
   "outputs": [],
   "source": [
    "import warnings\n",
    "\n",
    "warnings.filterwarnings(\"ignore\")\n",
    "\n",
    "import csv\n",
    "import json\n",
    "import os\n",
    "import time\n",
    "from itertools import chain, combinations\n",
    "\n",
    "import matplotlib.lines as mlines\n",
    "import matplotlib.pyplot as plt\n",
    "import pennylane as qml\n",
    "import pennylane.numpy as np\n",
    "from sklearn.model_selection import train_test_split\n",
    "from tqdm.notebook import tqdm"
   ]
  },
  {
   "cell_type": "markdown",
   "metadata": {},
   "source": [
    "## Load and visualize dataset"
   ]
  },
  {
   "cell_type": "markdown",
   "metadata": {},
   "source": [
    "To generate the data, two random vectors in the X-Z plane of the Bloch sphere are chosen. Around these two vectors, we randomly sample two sets of quantum data points; the task is to learn to distinguish the two sets.\n",
    "\n",
    "This binary dataset has been artificially generated to be perfectly classifiable using a suitable feature map."
   ]
  },
  {
   "cell_type": "code",
   "execution_count": null,
   "metadata": {},
   "outputs": [],
   "source": [
    "# %run gen_binary.py  # uncomment to generate new train/test dataset"
   ]
  },
  {
   "cell_type": "code",
   "execution_count": null,
   "metadata": {},
   "outputs": [],
   "source": [
    "#DATA_PATH = \"data/\"\n",
    "#DATA_NAME = \"binary_data_005.csv\"\n",
    "\n",
    "DATA_ID = \"001\"\n",
    "DATA_PATH = \"data/binary_data/\"\n",
    "DATA_NAME = \"binary_data_\" + DATA_ID + \".csv\"\n",
    "param_NAME = \"params_\" + DATA_ID + \".json\"\n",
    "\n",
    "file = open(DATA_PATH + param_NAME)\n",
    "\n",
    "params = json.load(file)\n",
    "delta = params[\"delta\"]\n",
    "n_points = params[\"n_points\"]\n",
    "\n",
    "file.close()\n",
    "\n",
    "# Load data\n",
    "Xs = np.zeros(shape=(n_points, 2))\n",
    "Ys = np.zeros(shape=(n_points,))\n",
    "\n",
    "with open(DATA_PATH + DATA_NAME, mode=\"r\") as file:\n",
    "    csvFile = csv.reader(file)\n",
    "    for i, row in enumerate(csvFile):\n",
    "        Xs[i] = np.array([float(row[0]), float(row[1])])\n",
    "        Ys[i] = float(row[2])\n",
    "        if i == n_points:\n",
    "            break\n",
    "\n",
    "n_samples = 200  # number of train/test samples\n",
    "X_data, Y_data = Xs[:n_samples], Ys[:n_samples]\n",
    "X_train, X_test, Y_train, Y_test = train_test_split(X_data, Y_data)"
   ]
  },
  {
   "cell_type": "code",
   "execution_count": null,
   "metadata": {},
   "outputs": [],
   "source": [
    "split_xs = lambda x: [[x[i][j] for i in range(len(x))] for j in [0, 1]]\n",
    "\n",
    "xi, xj = split_xs(Xs)\n",
    "xi_train, xj_train = split_xs(X_train)\n",
    "xi_test, xj_test = split_xs(X_test)\n",
    "\n",
    "label_circle = mlines.Line2D(\n",
    "    [],\n",
    "    [],\n",
    "    color=\"none\",\n",
    "    marker=\"o\",\n",
    "    markerfacecolor=\"none\",\n",
    "    markeredgecolor=\"black\",\n",
    "    label=f\"Train ({len(X_train)})\",\n",
    ")\n",
    "label_square = mlines.Line2D(\n",
    "    [],\n",
    "    [],\n",
    "    color=\"none\",\n",
    "    marker=\"s\",\n",
    "    markerfacecolor=\"none\",\n",
    "    markeredgecolor=\"black\",\n",
    "    label=f\"Test ({len(X_test)})\",\n",
    ")\n",
    "\n",
    "plt.scatter(xi, xj, marker=\"o\", c=[\"r\" if v == 1.0 else \"b\" for v in Ys])\n",
    "plt.scatter(xi_train, xj_train, c=[\"k\" if v == 1.0 else \"y\" for v in Y_train])\n",
    "plt.scatter(xi_test, xj_test, marker=\"s\", c=[\"k\" if v == 1.0 else \"y\" for v in Y_test])\n",
    "plt.xticks([0, 2 * np.pi], [r\"$0$\", r\"$2\\pi$\"])\n",
    "plt.yticks([0, 2 * np.pi], [r\"$0$\", r\"$2\\pi$\"])\n",
    "plt.xlabel(\"$\\\\theta$\")\n",
    "plt.ylabel(\"$\\phi$\")\n",
    "plt.legend(handles=[label_circle, label_square], loc=\"upper right\")\n",
    "plt.title(f\"Classification Data, $\\Delta = {delta}$\")\n",
    "plt.savefig(DATA_PATH + \"binary_landscape_\" + DATA_ID + \".png\")\n",
    "plt.show()"
   ]
  },
  {
   "cell_type": "markdown",
   "metadata": {},
   "source": [
    "An arbitrary single qubit state can be written:\n",
    "\n",
    "$$ \\left| \\psi \\right\\rangle = e^{i \\gamma} \\big(\\cos \\frac{\\theta}{2}\\left|0\\right\\rangle + e^{i \\phi} \\sin \\frac{\\theta}{2}\\left|1\\right\\rangle \\big) $$ \n",
    "\n",
    "where $\\theta$, $\\phi$ and $\\gamma$ are real numbers. The numbers $0 \\leq \\theta \\leq \\pi$ and $0 \\leq \\phi \\leq 2\\pi$ define a point on the Bloch sphere."
   ]
  },
  {
   "cell_type": "markdown",
   "metadata": {},
   "source": [
    "## Construct data encoding feature map with entanglement $\\left| \\Phi(x_i) \\right\\rangle \\left\\langle \\Phi(x_i) \\right|  $\n",
    "\n",
    "The feature map is an injective encoding of the classical data $\\textbf{x} \\in {\\rm I\\!R}^d$ into a quantum state $\\left| \\Phi \\right\\rangle \\left\\langle \\Phi \\right|$. Implement the following unitary feature map onto $n$-qubits, where $H$ denotes the conventional Hadamard gate:\n",
    "\n",
    "$$\\left|\\Phi(\\textbf{x})\\right\\rangle = \\mathcal{U}_{\\Phi(\\textbf{x})}\\left|0\\right\\rangle^{\\otimes n} = U_{\\Phi(\\textbf{x})}H^{\\otimes n} U_{\\Phi(\\textbf{x})}H^{\\otimes n} \\left|0\\right\\rangle^{\\otimes n}$$\n",
    "where,\n",
    "$$U_{\\Phi(\\textbf{x})} = \\exp\\bigg(i \\sum_{S \\subseteq [n]} \\phi_S(\\textbf{x}) \\prod_{i \\in S} Z_i \\bigg)$$\n",
    "where the $2^n$ coefficients $\\phi(\\textbf{x}) \\in {\\rm I\\!R}$ are now non-linear functions of the input data $\\textbf{x} \\in {\\rm I\\!R}^n$. In general, maps with low degree expansions $|S| \\leq d$ can be implemented efficiently. As in the original paper, use $n=d=2$."
   ]
  },
  {
   "cell_type": "code",
   "execution_count": null,
   "metadata": {},
   "outputs": [],
   "source": [
    "def powerset(iterable, mx):\n",
    "    \"powerset([1,2,3]) --> () (1,) (2,) (3,) (1,2) (1,3) (2,3) (1,2,3)\"\n",
    "    s = list(iterable)\n",
    "    pset = chain.from_iterable(combinations(s, r) for r in range(len(s) + 1))\n",
    "    return [l for l in list(pset) if len(l) == mx]"
   ]
  },
  {
   "cell_type": "code",
   "execution_count": null,
   "metadata": {},
   "outputs": [],
   "source": [
    "n_wires = 2  # number of qubits\n",
    "S_size = 2  # number of interactions considered\n",
    "depth = 3  # number of layers in ansatz\n",
    "pset = powerset(range(n_wires), S_size)"
   ]
  },
  {
   "cell_type": "code",
   "execution_count": null,
   "metadata": {},
   "outputs": [],
   "source": [
    "def encode_data(x):\n",
    "    \"\"\"Non-linear encoding (transformation) of one input data vector\n",
    "\n",
    "    Args:\n",
    "        x : shape (2,) tensor containing one input data vector\n",
    "\n",
    "    Returns:\n",
    "        triple of data encoded coefficients phi_1, phi_2, phi_{1,2}\n",
    "    \"\"\"\n",
    "\n",
    "    return x[0], x[1], (np.pi - x[0]) * (np.pi - x[1])"
   ]
  },
  {
   "cell_type": "markdown",
   "metadata": {},
   "source": [
    "Considering only Ising type interactions ($d=2$), the unitaries are generated from one- and two- big gates of the form\n",
    "\n",
    "$$U_{\\phi_{\\{k\\}}(\\textbf{x})} = \\exp\\big(i\\phi_{\\{k\\}}(\\textbf{x})Z_k \\big)$$\n",
    "$$U_{\\phi_{\\{l,m\\}}(\\textbf{x})} = \\exp\\big(i\\phi_{\\{k,l\\}}(\\textbf{x})Z_kZ_l\\big)$$\n",
    "\n",
    "where we have followed Havlíček et al. and chosen $\\phi_{\\{ i \\}} = x_i$ and $\\phi_{\\{ 1,2 \\}} = (\\pi - x_1)(\\pi - x_2)$ "
   ]
  },
  {
   "cell_type": "markdown",
   "metadata": {},
   "source": [
    "### <span style=\"color:red\">TODO (1): Fix incorrect feature map</span>"
   ]
  },
  {
   "cell_type": "code",
   "execution_count": 10,
   "metadata": {},
   "outputs": [],
   "source": [
    "def feature_map(x):\n",
    "    \"\"\"Short depth feature map with entanglement\n",
    "\n",
    "    Args:\n",
    "        x : shape (3,) tensor containing one encoded data vector\n",
    "    \"\"\"\n",
    "    for _ in range(2): # U_Φ(~x) = U_Φ(~x) H^⊗n U_Φ(~x) H^⊗n\n",
    "        for i in range(n_wires):\n",
    "            qml.Hadamard(wires=i)\n",
    "\n",
    "        for i in range(n_wires):\n",
    "            qml.RZ(x[i%2]*2, wires=i) \n",
    "\n",
    "        for s in pset:\n",
    "            qml.CNOT(wires=s)\n",
    "            qml.RZ(x[2]*2, wires=s[1])\n",
    "            qml.CNOT(wires=s)"
   ]
  },
  {
   "cell_type": "markdown",
   "metadata": {
    "tags": []
   },
   "source": [
    "## Construct short-depth discriminator circuit $W(\\theta)$\n",
    "\n",
    "The general short-depth circuit to define a seperating hyperplane is comprised of the following sequence of single qubit and multi-qubit gates:\n",
    "\n",
    "$$ W(\\theta) = U_{loc}^{(l)}(\\theta_l)U_{ent}...U_{loc}^{(2)}(\\theta_2)U_{ent}U_{loc}^{(1)}(\\theta_1) $$\n",
    "\n",
    "\n",
    "Apply a circuit of $l$ repeated entanglers and interleave them with layers comprised of local single qubit rotations:\n",
    "\n",
    "$$ U_{loc}^{(t)}(\\theta_t) = \\otimes_{m=1}^n U(\\theta_{m,t}) \\quad \\text{and} \\quad U(\\theta_{m,t}) = \\exp\\bigg(i \\frac{1}{2}\\theta_{m,t}^z Z_m\\bigg) \\exp\\bigg(i \\frac{1}{2}\\theta_{m,t}^y Y_m\\bigg) $$\n",
    "\n",
    "parameterized by $\\theta_t \\in {\\rm I\\!R}^{2n}$ and $\\theta_{i,t} \\in {\\rm I\\!R}^{2}$. Implement a feature map that uses entangling unitaries comprised of products of controlled-Z phase gates $CZ(i,j)$ between qubits $i$ and $j$.\n",
    "\n",
    "$$ U_{ent} = \\prod_{(i,j) \\in E} CZ(i,j) $$ "
   ]
  },
  {
   "cell_type": "markdown",
   "metadata": {},
   "source": [
    "### <span style=\"color:red\">TODO (2): Fix incorrect ansatz</span>"
   ]
  },
  {
   "cell_type": "code",
   "execution_count": 11,
   "metadata": {},
   "outputs": [],
   "source": [
    "def ansatz(params):\n",
    "    \"\"\"VQC ansatz using single-qubits unitaries and entangling gates\n",
    "\n",
    "    Args:\n",
    "        params : shape (`depth` + 1, `n_wires`, 3) tensor containing trainable parameters\n",
    "    \"\"\"\n",
    "\n",
    "    for d in range(depth-1):\n",
    "        for i in range(n_wires):\n",
    "            qml.Rot(params[d, i, 0], params[d, i, 1], params[d, i, 2], wires=i)\n",
    "            \n",
    "        for s in pset:\n",
    "            qml.CZ(wires=s)\n",
    "            \n",
    "    for i in range(n_wires):\n",
    "        qml.Rot(params[depth, i, 2], params[depth, i, 0], params[depth, i, 1], wires=i)\n"
   ]
  },
  {
   "cell_type": "markdown",
   "metadata": {},
   "source": [
    "### <span style=\"color:red\">TODO (3): Adapt circuit implementation to fixes (1) and (2)</span>"
   ]
  },
  {
   "cell_type": "code",
   "execution_count": 35,
   "metadata": {},
   "outputs": [],
   "source": [
    "def circuit(params, x):\n",
    "    \"\"\"Havlicek et al. variational quantum circuit\n",
    "\n",
    "    Args:\n",
    "        params : shape (`depth` + 1, `n_wires`, 3) tensor containing trainable parameters\n",
    "        x : shape (2,) tensor containing one input data vector\n",
    "\n",
    "    Returns:\n",
    "        shape(2 * 'n_wires',) tensor containing Z basis measurement probability on each qubit\n",
    "    \"\"\"\n",
    "\n",
    "    feature_map(encode_data(x))  # prepare initial feature map state\n",
    "    ansatz(params)  # apply discriminator circuit\n",
    "\n",
    "    return qml.probs(wires=range(n_wires))  # p(+1), p(-1)"
   ]
  },
  {
   "cell_type": "code",
   "execution_count": 44,
   "metadata": {},
   "outputs": [],
   "source": [
    "shots = 100  # number of circuit executions\n",
    "\n",
    "dev_local = qml.device(\"default.qubit\", wires=n_wires, shots=shots)\n",
    "\n",
    "qnode_local = qml.QNode(circuit, dev_local)"
   ]
  },
  {
   "cell_type": "code",
   "execution_count": 45,
   "metadata": {},
   "outputs": [
    {
     "name": "stdout",
     "output_type": "stream",
     "text": [
      "0: ──H──RZ(10.70)─╭●────────────╭●──H──RZ(10.70)─╭●────────────╭●──Rot(3.12,-0.87,4.07)──╭●\n",
      "1: ──H──RZ(3.98)──╰X──RZ(-5.08)─╰X──H──RZ(3.98)──╰X──RZ(-5.08)─╰X──Rot(9.57,-1.47,-1.47)─╰Z\n",
      "\n",
      "───Rot(9.92,4.82,-2.95)──╭●──Rot(9.21,-5.71,-8.87)─┤ ╭Probs\n",
      "───Rot(3.41,-2.91,-2.93)─╰Z──Rot(-8.95,-1.42,0.42)─┤ ╰Probs\n"
     ]
    }
   ],
   "source": [
    "np.random.seed(42)\n",
    "params = (\n",
    "    2 * np.pi * np.random.randn(depth + 1, n_wires, 3, requires_grad=True)\n",
    ")  # random initial circuit parameters\n",
    "\n",
    "print(qml.draw(qnode_local)(params, X_train[0]))  # example parameterized circuit"
   ]
  },
  {
   "cell_type": "markdown",
   "metadata": {},
   "source": [
    "## Train model"
   ]
  },
  {
   "cell_type": "markdown",
   "metadata": {},
   "source": [
    "The probability that the label $m(\\textbf{x}) = y$ is assigned incorrectly is approximated by\n",
    "\n",
    "$$ \\text{Pr}(\\tilde{m}(\\textbf{x}) \\neq m(\\textbf{x})) \\approx \\text{sig}\\bigg( \\frac{\\sqrt{R}\\big( \\frac{1}{2} - \\big( \\hat{p}_y(\\textbf{x})+ \\frac{yb}{2} \\big) \\big)}{\\sqrt{2(1-\\hat{p}_y(\\textbf{x}))\\hat{p}_y(\\textbf{x})}} \\bigg) $$ \n",
    "\n",
    "where $\\text{sig}(x) = (1+ e^{-x})^{-1}$ is the sigmoid function."
   ]
  },
  {
   "cell_type": "code",
   "execution_count": 46,
   "metadata": {},
   "outputs": [],
   "source": [
    "def err_prob(params, x, y, R, bias=0):\n",
    "    \"\"\"Error probability of assigning a wrong label\n",
    "\n",
    "    Args:\n",
    "        x : shape (2,) tensor containing one input data vector\n",
    "        y : shape (1,) tensor containing associated label\n",
    "        params : shape (`depth` + 1, `n_wires`, 3) tensor containing trainable parameters\n",
    "        R : int number of circuit evaluations (shots)\n",
    "        bias : optional bias parameter in [-1,+1]\n",
    "\n",
    "    Returns:\n",
    "        probability that the VQC computed label m(x) = y' is assigned incorrectly\n",
    "    \"\"\"\n",
    "\n",
    "    bprobs = qnode_local(params, x)  # probabilities for each basis state\n",
    "    cprobs = (\n",
    "        bprobs[0] + bprobs[3],\n",
    "        bprobs[1] + bprobs[2],\n",
    "    )  # probabilities for each eigenstate of parity Z_1 Z_2\n",
    "    prob_correct = cprobs[int(0.5 - 0.5 * y)]  # probability of choosing correct label\n",
    "\n",
    "    # Intermediate evaluation of equation from supplement using derived p_y(x) i.e. prob_correct\n",
    "    val = (np.sqrt(R) * (0.5 - prob_correct - 0.5 * y * bias)) / (\n",
    "        np.sqrt(2 * (1 - prob_correct) * prob_correct)\n",
    "    )\n",
    "\n",
    "    return 1 / (\n",
    "        1 + np.exp(-val)\n",
    "    )  # binomial CDF for R >> 1 approximated using sigmoid function"
   ]
  },
  {
   "cell_type": "markdown",
   "metadata": {},
   "source": [
    "We define the empirical risk $R_{\\text{emp}}(\\theta)$ in terms of the error probability $\\text{Pr}(\\tilde{m}(\\textbf{x} \\neq m(\\textbf{x}))$ of assigning the incorrect label, based on the decision rule $\\tilde{m}(\\textbf{s}) = \\text{argmax}_y\\{ \\hat{p}_y(\\textbf{s}) \\}$ after R shots, averaged over the samples in the training set $T$. In the binary case this decision rule simplifies to $\\tilde{m}(\\textbf{x}) = y$ whenever $\\hat{p}_y(\\textbf{x}) > \\hat{p}_{-y}(\\textbf{x}) - yb$.\n",
    "\n",
    "$$ R_{\\text{emp}}(\\theta) = \\frac{1}{|T|} \\sum_{\\textbf{x} \\in T} \\text{Pr}(\\tilde{m}(\\textbf{x}) \\neq m(\\textbf{x})).$$"
   ]
  },
  {
   "cell_type": "code",
   "execution_count": 47,
   "metadata": {},
   "outputs": [],
   "source": [
    "def cost(params, Xs, Ys, R):\n",
    "    \"\"\"Cost function for circuit optimization\n",
    "\n",
    "    Args:\n",
    "        params : shape (`depth` + 1, `n_wires`, 3) tensor containing trainable parameters\n",
    "        Xs : shape (n,2) tensor containing input data vectors\n",
    "        Ys : shape (n,) tensor containing associated labels\n",
    "        R : int number of circuit evaluations (shots)\n",
    "\n",
    "    Returns:\n",
    "        the empirical risk i.e. the error probability averaged over all data points\n",
    "\n",
    "    \"\"\"\n",
    "\n",
    "    ep_sum = 0  # initialize error probabilities sum\n",
    "    for i in range(\n",
    "        Xs.shape[0]\n",
    "    ):  # compute sum of error probabilities over all data points\n",
    "        ep_sum += err_prob(params, Xs[i], Ys[i], R)\n",
    "\n",
    "    return ep_sum / Xs.shape[0]  # return average over all data points"
   ]
  },
  {
   "cell_type": "code",
   "execution_count": 48,
   "metadata": {},
   "outputs": [
    {
     "data": {
      "application/vnd.jupyter.widget-view+json": {
       "model_id": "",
       "version_major": 2,
       "version_minor": 0
      },
      "text/plain": [
       "training:   0%|          | 0/10 [00:00<?, ?it/s]"
      ]
     },
     "metadata": {},
     "output_type": "display_data"
    },
    {
     "name": "stdout",
     "output_type": "stream",
     "text": [
      "Initial cost: 0.3444\n",
      "Cost at step 10: 0.0623\n",
      "Avg time per step: 2.0649 sec\n",
      "\n",
      "Parameters saved to vqc/20221103-211450/Aqcent_params.csv\n",
      "Costs saved to vqc/20221103-211450/Aqcent_costs.csv\n"
     ]
    }
   ],
   "source": [
    "# Set training hyperparameters (modify as needed)\n",
    "iterations = 10  #  number of training iterations\n",
    "batch_size = 12  # number of training examples used in one iteration\n",
    "stepsize = 0.12  # learning rate, positive value between 0.0 and 1.0\n",
    "beta1 = 0.3  # hyperparameter governing the update of the first and second moment\n",
    "beta2 = 0.7  # hyperparameter governing the update of the first and second moment\n",
    "eps = 1e-08  # offset ϵ added for numerical stability (prevents division by zero)\n",
    "# Gradient-based training\n",
    "costs = []\n",
    "times = []\n",
    "\n",
    "opt = qml.AdamOptimizer(stepsize, beta1, beta2, eps)\n",
    "\n",
    "#opt = qml.GradientDescentOptimizer(stepsize)\n",
    "\n",
    "for i in tqdm(range(iterations), desc=\"training\", leave=False):\n",
    "\n",
    "    # Generate the batch\n",
    "    batch_index = np.random.randint(0, X_train.shape[0], (batch_size,))\n",
    "    X_batch = X_train[batch_index]\n",
    "    Y_batch = Y_train[batch_index]\n",
    "\n",
    "    t0 = time.time()\n",
    "\n",
    "    # Update parameters by a single step.\n",
    "    params = opt.step(lambda var: cost(var, X_batch, Y_batch, shots), params)\n",
    "\n",
    "    t1 = time.time()\n",
    "\n",
    "    # Compute cost\n",
    "    cost_current = cost(params, X_train, Y_train, shots)\n",
    "\n",
    "    costs.append(cost_current)\n",
    "    times.append(t1 - t0)\n",
    "\n",
    "print(f\"Initial cost: {round(float(costs[0]), 4)}\")\n",
    "print(f\"Cost at step {iterations}: {round(float(costs[-1]), 4)}\")\n",
    "print(f\"Avg time per step: {round(sum(times)/len(times), 4)} sec\")\n",
    "\n",
    "# Output folder\n",
    "time_str = time.strftime(\"%Y%m%d-%H%M%S\")\n",
    "VQC_OUT = f\"vqc/{time_str}\"\n",
    "os.makedirs(VQC_OUT, exist_ok=True)\n",
    "\n",
    "params_csv = f\"{VQC_OUT}/{TEAM_NAME}_params.csv\"\n",
    "costs_csv = f\"{VQC_OUT}/{TEAM_NAME}_costs.csv\"\n",
    "\n",
    "np.savetxt(params_csv, params.reshape(n_wires * (depth + 1), 3))\n",
    "print(f\"\\nParameters saved to {params_csv}\")\n",
    "\n",
    "np.savetxt(\n",
    "    costs_csv,\n",
    "    np.vstack((range(iterations), costs[:iterations])).T,\n",
    "    delimiter=\", \",\n",
    ")\n",
    "print(f\"Costs saved to {costs_csv}\")"
   ]
  },
  {
   "cell_type": "code",
   "execution_count": 52,
   "metadata": {},
   "outputs": [
    {
     "data": {
      "image/png": "[encoded data removed]",
      "text/plain": [
       "<Figure size 640x480 with 1 Axes>"
      ]
     },
     "metadata": {},
     "output_type": "display_data"
    }
   ],
   "source": [
    "# Plot loss\n",
    "loss_png = f\"{VQC_OUT}/{TEAM_NAME}_loss.png\"\n",
    "\n",
    "fig, ax = plt.subplots()\n",
    "ax.set_title(\"VQC training\")\n",
    "ax.set_xlabel(\"Trial Step\")\n",
    "ax.set_ylabel(\"$R_{emp}$\")\n",
    "ax.plot(range(1, iterations + 1), costs)\n",
    "plt.savefig(loss_png)\n",
    "plt.show()"
   ]
  },
  {
   "cell_type": "code",
   "execution_count": 53,
   "metadata": {},
   "outputs": [
    {
     "name": "stdout",
     "output_type": "stream",
     "text": [
      "Accuracy: 100.0%\n"
     ]
    }
   ],
   "source": [
    "### Calculate accuracy using local simulator\n",
    "\n",
    "# Load trained parameters\n",
    "loaded_params = np.loadtxt(params_csv)\n",
    "final_params = loaded_params.reshape(depth + 1, n_wires, 3)\n",
    "\n",
    "# Calculate accuracy\n",
    "Y_pred = np.zeros(shape=Y_test.shape)\n",
    "\n",
    "for ind, x in enumerate(X_test):\n",
    "\n",
    "    # How many of the qubit states are orthogonal?\n",
    "    bprobs = qnode_local(final_params, x)  # probabilities for each basis state\n",
    "    cprobs = (\n",
    "        bprobs[0] + bprobs[3],\n",
    "        bprobs[1] + bprobs[2],\n",
    "    )  # probabilities for each eigenstate of parity Z_1 Z_2\n",
    "\n",
    "    # out of the majority of the number shots,\n",
    "    # classify +1 for orthogonal and -1 for correspondence\n",
    "    if cprobs[0] >= 0.5:\n",
    "        Y_pred[ind] = 1.0\n",
    "    else:\n",
    "        Y_pred[ind] = -1.0\n",
    "\n",
    "preds = [1 if Y_pred[i] == Y_test[i] else 0 for i in range(len(Y_pred))]\n",
    "\n",
    "n_preds = len(Y_pred)\n",
    "n_correct = sum(preds)\n",
    "n_incorrect = n_preds - n_correct\n",
    "accuracy = n_correct / n_preds\n",
    "\n",
    "print(f\"Accuracy: {round(accuracy*100,2)}%\")"
   ]
  },
  {
   "cell_type": "code",
   "execution_count": 54,
   "metadata": {},
   "outputs": [
    {
     "name": "stdout",
     "output_type": "stream",
     "text": [
      "40.199999999999996\n"
     ]
    }
   ],
   "source": [
    "quantum_cost = iterations*batch_size*(0.3+shots*.00035)\n",
    "print(quantum_cost)"
   ]
  },
  {
   "cell_type": "markdown",
   "metadata": {
    "tags": []
   },
   "source": [
    "### <span style=\"color:red\">TODO (4): Evaluate model on remote Braket device</span>\n",
    "\n",
    "After validating your implementation and successfully training using a local simulator, test your model on remote quantum device using the [Amazon Braket Pennylane plugin](https://github.com/aws/amazon-braket-pennylane-plugin-python). For a full list of available QPUs and simulators, see [Amazon Braket supported devices](https://docs.aws.amazon.com/braket/latest/developerguide/braket-devices.html)."
   ]
  },
  {
   "cell_type": "code",
   "execution_count": 55,
   "metadata": {},
   "outputs": [],
   "source": [
    "device_arn = \"arn:aws:braket:::device/quantum-simulator/amazon/sv1\"                     # SV1\n",
    "# device = AwsDevice('arn:aws:braket:::device/quantum-simulator/amazon/dm1')            #DM1\n",
    "# device = AwsDevice('arn:aws:braket:::device/qpu/ionq/ionQdevice')                     #IonQ\n",
    "# device = AwsDevice('arn:aws:braket:::device/qpu/rigetti/Aspen-11')                    #Rigetti Aspen-11\n",
    "# device = AwsDevice('arn:aws:braket:us-west-1::device/qpu/rigetti/Aspen-M-2')          #Rigetti Aspen M-2\n",
    "\n",
    "dev_remote = qml.device(\n",
    "    \"braket.aws.qubit\",\n",
    "    device_arn=device_arn,\n",
    "    wires=20,\n",
    "    parallel=True,\n",
    "    max_parallel=20,\n",
    "    shots=100,\n",
    ")\n",
    "\n",
    "qnode_remote = qml.QNode(circuit, dev_remote)"
   ]
  },
  {
   "cell_type": "code",
   "execution_count": 56,
   "metadata": {},
   "outputs": [],
   "source": [
    "# Load trained parameters\n",
    "loaded_params = np.loadtxt(params_csv)\n",
    "final_params = loaded_params.reshape(depth + 1, n_wires, 3)"
   ]
  },
  {
   "cell_type": "code",
   "execution_count": 57,
   "metadata": {},
   "outputs": [
    {
     "name": "stdout",
     "output_type": "stream",
     "text": [
      "Accuracy: 100.0%\n"
     ]
    }
   ],
   "source": [
    "# Calculate accuracy\n",
    "Y_pred = np.zeros(shape=Y_test.shape)\n",
    "\n",
    "for ind, x in enumerate(X_test):\n",
    "\n",
    "    # How many of the qubit states are orthogonal?\n",
    "    bprobs = qnode_remote(final_params, x)  # probabilities for each basis state\n",
    "    cprobs = (\n",
    "        bprobs[0] + bprobs[3],\n",
    "        bprobs[1] + bprobs[2],\n",
    "    )  # probabilities for each eigenstate of parity Z_1 Z_2\n",
    "\n",
    "    # out of the majority of the number shots,\n",
    "    # classify +1 for orthogonal and -1 for correspondence\n",
    "    if cprobs[0] >= 0.5:\n",
    "        Y_pred[ind] = 1.0\n",
    "    else:\n",
    "        Y_pred[ind] = -1.0\n",
    "\n",
    "preds = [1 if Y_pred[i] == Y_test[i] else 0 for i in range(len(Y_pred))]\n",
    "\n",
    "n_preds = len(Y_pred)\n",
    "n_correct = sum(preds)\n",
    "n_incorrect = n_preds - n_correct\n",
    "accuracy = n_correct / n_preds\n",
    "\n",
    "print(f\"Accuracy: {round(accuracy*100,2)}%\")"
   ]
  },
  {
   "cell_type": "code",
   "execution_count": 58,
   "metadata": {},
   "outputs": [
    {
     "data": {
      "image/png": "[encoded data removed]",
      "text/plain": [
       "<Figure size 640x480 with 1 Axes>"
      ]
     },
     "metadata": {},
     "output_type": "display_data"
    }
   ],
   "source": [
    "# Plot predictions\n",
    "preds_png = f\"{VQC_OUT}/{TEAM_NAME}_preds.png\"\n",
    "\n",
    "label_correct = mlines.Line2D(\n",
    "    [],\n",
    "    [],\n",
    "    color=\"none\",\n",
    "    marker=\"o\",\n",
    "    markerfacecolor=\"y\",\n",
    "    markeredgecolor=\"y\",\n",
    "    label=f\"correct ({n_correct})\",\n",
    ")\n",
    "label_incorrect = mlines.Line2D(\n",
    "    [],\n",
    "    [],\n",
    "    color=\"none\",\n",
    "    marker=\"o\",\n",
    "    markerfacecolor=\"k\",\n",
    "    markeredgecolor=\"k\",\n",
    "    label=f\"incorrect ({n_incorrect})\",\n",
    ")\n",
    "\n",
    "plt.scatter(xi, xj, marker=\"o\", c=[\"r\" if v == 1 else \"b\" for v in Ys])\n",
    "plt.scatter(xi_test, xj_test, c=[\"y\" if v == 1 else \"k\" for v in preds])\n",
    "plt.xticks([0, 2 * np.pi], [r\"$0$\", r\"$2\\pi$\"])\n",
    "plt.yticks([0, 2 * np.pi], [r\"$0$\", r\"$2\\pi$\"])\n",
    "plt.xlabel(\"$\\\\theta$\")\n",
    "plt.ylabel(\"$\\phi$\")\n",
    "plt.legend(handles=[label_correct, label_incorrect], loc=\"upper right\")\n",
    "plt.title(f\"Predictions, $\\Delta = {delta}$\")\n",
    "plt.savefig(preds_png)\n",
    "plt.show()"
   ]
  }
 ],
 "metadata": {
  "kernelspec": {
   "display_name": "Python 3 [HAQS-22]",
   "language": "python",
   "name": "python3_haqs_dk5kt8"
  },
  "language_info": {
   "codemirror_mode": {
    "name": "ipython",
    "version": 3
   },
   "file_extension": ".py",
   "mimetype": "text/x-python",
   "name": "python",
   "nbconvert_exporter": "python",
   "pygments_lexer": "ipython3",
   "version": "3.9.10"
  }
 },
 "nbformat": 4,
 "nbformat_minor": 4
}
